{
 "cells": [
  {
   "cell_type": "code",
   "execution_count": 1,
   "metadata": {},
   "outputs": [
    {
     "name": "stdout",
     "output_type": "stream",
     "text": [
      "Please insert the path to the pvplants folders:/media/spiros/MY_DATA/pvplants\n"
     ]
    }
   ],
   "source": [
    "path_to_files = input('Please insert the path to the pvplants folders:')"
   ]
  },
  {
   "cell_type": "code",
   "execution_count": 2,
   "metadata": {},
   "outputs": [],
   "source": [
    "# path_to_files = input('Please insert the path to the pvplants folders:')\n",
    "from usefull_funcs import *\n",
    "import pickle\n",
    "with open ('all_data.pickle','rb') as file:\n",
    "    all_data = pickle.load(file)\n",
    "\n",
    "# plants=list_dir(path_to_files)\n",
    "# all_data=[]\n",
    "# for plant in plants:\n",
    "#     data = parse_ods(plant,path_to_files)\n",
    "#     all_data.append({plant:data})\n",
    "\n",
    "ppc_plants_data = []\n",
    "plants_data = []\n",
    "for plant in all_data:\n",
    "    pl = list(plant.keys())[0]\n",
    "    ppc = find_if_ppc(plant[pl])\n",
    "    inv = find_inv(plant[pl])\n",
    "    country = find_country(plant[pl])\n",
    "    grid = find_grid_code(plant[pl]) or 'None'\n",
    "    ips = find_plant_ips(path_to_files,plant[pl],pl)\n",
    "    try:\n",
    "        ppc_c = 'c_'+str(int(find_ppc_controller(plant[pl]))-1)\n",
    "    except:\n",
    "        ppc_c = '-'\n",
    "    try:\n",
    "        ppc_ip = [ el['address'] for el in ips['controllers'] if el['ppc_ip']==\"YES\"] or ['-']\n",
    "    except:\n",
    "        ppc_ip = ['-']\n",
    "    try:\n",
    "        rest_ips = [ el['address'] for el in ips['controllers'] if el['ppc_ip']==\"NO\"]\n",
    "    except:\n",
    "        rest_ips = []\n",
    "    if ppc:\n",
    "        ppc_meter = find_PPC_meter(plant[pl])\n",
    "        ppc_nom_power = find_ppc_nom_power(plant[pl])                           \n",
    "    else:\n",
    "        ppc_meter = ['-','-']\n",
    "        ppc_nom_power = '-'\n",
    "    if ppc:\n",
    "        ppc_plants_data.append({'Name':pl,\n",
    "                               'PPC Meter':ppc_meter,\n",
    "                               'Inverter':inv,\n",
    "                               'Country':country,\n",
    "                               'Grid_Code':grid,\n",
    "                               'PPC Controller':ppc_c,\n",
    "                               'Portal Name':find_portal_name(plant[pl]),\n",
    "                               'PPC Nominal Power': ppc_nom_power,\n",
    "                               '#_Controllers': ips['ncontrollers'],\n",
    "                               'PPC ip': ppc_ip,\n",
    "                               'Rest ips':rest_ips})\n",
    "    plants_data.append({'Name':pl,\n",
    "                       'Inverter':inv,\n",
    "                       'PPC Meter':ppc_meter,\n",
    "                       'Country':country,\n",
    "                       'Grid_Code':grid,\n",
    "                       'PPC Controller':ppc_c,\n",
    "                       'Portal Name':find_portal_name(plant[pl]),\n",
    "                       'PPC Nominal Power': ppc_nom_power,\n",
    "                       '#_Controllers': ips['ncontrollers'],\n",
    "                       'PPC ip': ppc_ip,\n",
    "                       'Rest ips':rest_ips})"
   ]
  },
  {
   "cell_type": "code",
   "execution_count": 3,
   "metadata": {},
   "outputs": [],
   "source": [
    "import sqlite3\n",
    "conn = sqlite3.connect('all_plants.sqlite')\n",
    "cur = conn.cursor()"
   ]
  },
  {
   "cell_type": "code",
   "execution_count": 4,
   "metadata": {},
   "outputs": [
    {
     "data": {
      "text/plain": [
       "<sqlite3.Cursor at 0x7f36bef54ce0>"
      ]
     },
     "execution_count": 4,
     "metadata": {},
     "output_type": "execute_result"
    }
   ],
   "source": [
    "cur.executescript('''\n",
    "CREATE TABLE IF NOT EXISTS PLANTS (\n",
    "    id INTEGER NOT NULL PRIMARY KEY AUTOINCREMENT UNIQUE,\n",
    "    plant TEXT UNIQUE,\n",
    "    portal_name TEXT,\n",
    "    country_id INTEGER,\n",
    "    meter_id INTEGER,\n",
    "    inverter_id INTEGER,\n",
    "    grid_code_id INTEGER,\n",
    "    ppc_ip_id INTEGER,\n",
    "    n_controllers INTEGER,\n",
    "    ppc_nominal_power INTEGER,\n",
    "    ppc_controller TEXT\n",
    ");\n",
    "CREATE TABLE IF NOT EXISTS COUNTRIES (\n",
    "    id INTEGER NOT NULL PRIMARY KEY AUTOINCREMENT UNIQUE,\n",
    "    country TEXT UNIQUE\n",
    ");\n",
    "CREATE TABLE IF NOT EXISTS IPS (\n",
    "    id INTEGER NOT NULL PRIMARY KEY AUTOINCREMENT UNIQUE,\n",
    "    ip TEXT UNIQUE,\n",
    "    plant_id INTEGER\n",
    ");\n",
    "CREATE TABLE IF NOT EXISTS PPC_METERS(\n",
    "    id INTEGER NOT NULL PRIMARY KEY AUTOINCREMENT UNIQUE,\n",
    "    model TEXT UNIQUE,\n",
    "    man_id INTEGER\n",
    ");\n",
    "CREATE TABLE IF NOT EXISTS METER_MANUFACTURERS(\n",
    "    id INTEGER NOT NULL PRIMARY KEY AUTOINCREMENT UNIQUE,\n",
    "    manufacturer TEXT UNIQUE\n",
    ");\n",
    "CREATE TABLE IF NOT EXISTS INVERTERS(\n",
    "    id INTEGER NOT NULL PRIMARY KEY AUTOINCREMENT UNIQUE,\n",
    "    model TEXT UNIQUE,\n",
    "    man_id INTEGER\n",
    ");\n",
    "CREATE TABLE IF NOT EXISTS INVERTER_MANUFACTURERS(\n",
    "    id INTEGER NOT NULL PRIMARY KEY AUTOINCREMENT UNIQUE,\n",
    "    manufacturer TEXT UNIQUE\n",
    ");\n",
    "CREATE TABLE IF NOT EXISTS GRID_CODES(\n",
    "    id INTEGER NOT NULL PRIMARY KEY AUTOINCREMENT UNIQUE,\n",
    "    grid_code TEXT UNIQUE\n",
    ")\n",
    "\n",
    "''')"
   ]
  },
  {
   "cell_type": "code",
   "execution_count": 11,
   "metadata": {},
   "outputs": [],
   "source": [
    "conn.commit()"
   ]
  },
  {
   "cell_type": "code",
   "execution_count": 10,
   "metadata": {},
   "outputs": [],
   "source": [
    "for entry in plants_data:\n",
    "    \n",
    "    cur.execute('''INSERT OR IGNORE INTO PLANTS (plant) VALUES (?)''',(entry['Name'],))\n",
    "    cur.execute('''SELECT id FROM PLANTS WHERE plant = ?''',(entry['Name'],))\n",
    "    plant_id = cur.fetchone()[0]\n",
    "    \n",
    "    cur.execute('''INSERT OR IGNORE INTO COUNTRIES (country) VALUES (?)''', (entry['Country'],))\n",
    "    cur.execute('''SELECT id FROM COUNTRIES WHERE country = ?''',(entry['Country'],))\n",
    "    country_id = cur.fetchone()[0]\n",
    "    \n",
    "    \n",
    "    cur.execute('''INSERT OR IGNORE INTO METER_MANUFACTURERS (manufacturer)  VALUES (?)''', (entry['PPC Meter'][0],))\n",
    "    cur.execute('''SELECT id FROM METER_MANUFACTURERS WHERE manufacturer = ?''',(entry['PPC Meter'][0],))\n",
    "    meter_man_id = cur.fetchone()[0]\n",
    "    \n",
    "    \n",
    "    cur.execute('''INSERT OR IGNORE INTO PPC_METERS (model) VALUES (?)''', (entry['PPC Meter'][1],))\n",
    "    cur.execute('''SELECT id FROM PPC_METERS WHERE model = ?''',(entry['PPC Meter'][1],))\n",
    "    meter_id = cur.fetchone()[0]\n",
    "    \n",
    "    cur.execute('''INSERT OR IGNORE INTO INVERTER_MANUFACTURERS (manufacturer) VALUES (?)''', (entry['Inverter'][0][0],))\n",
    "    cur.execute('''SELECT id FROM INVERTER_MANUFACTURERS WHERE manufacturer = ?''',(entry['Inverter'][0][0],))\n",
    "    inv_man_id = cur.fetchone()[0]\n",
    "    \n",
    "    \n",
    "    cur.execute('''INSERT OR IGNORE INTO INVERTERS (model) VALUES (?)''', (entry['Inverter'][1][0],))\n",
    "    cur.execute('''SELECT id FROM INVERTERS WHERE model = ?''',(entry['Inverter'][1][0],))\n",
    "    inv_id = cur.fetchone()[0]\n",
    "\n",
    "    cur.execute('''INSERT OR IGNORE INTO GRID_CODES (grid_code) VALUES (?)''', (entry['Grid_Code'],))\n",
    "    cur.execute('''SELECT id FROM GRID_CODES WHERE grid_code = ?''',(entry['Grid_Code'],))\n",
    "    grid_id = cur.fetchone()[0]\n",
    "    \n",
    "    for ip in entry['PPC ip']+entry['Rest ips']:\n",
    "         cur.execute('''INSERT OR IGNORE INTO IPS (ip) VALUES (?)''', (ip,))\n",
    "         cur.execute(''' UPDATE IPS SET plant_id = ? WHERE ip = ?''', (plant_id,ip))\n",
    "        \n",
    "    if entry['PPC ip'] != ['-']:\n",
    "        cur.execute(''' SELECT id FROM IPS WHERE ip = ?''',(entry['PPC ip'][0],))\n",
    "        cur.execute('''SELECT id FROM IPS WHERE ip = ?''',(entry['PPC ip'][0],))\n",
    "        ip_id = cur.fetchone()[0]\n",
    "    else:\n",
    "        ip_id = '-'\n",
    "    \n",
    "    \n",
    "    cur.execute(''' UPDATE PLANTS SET portal_name = ?, country_id = ?, meter_id = ?,\n",
    "                        inverter_id = ?, grid_code_id = ?, ppc_ip_id = ?,\n",
    "                        n_controllers = ?, ppc_nominal_power = ?, ppc_controller = ? WHERE plant = ?''',\n",
    "               (entry['Portal Name'], country_id, meter_id, inv_id, grid_id, ip_id, entry['#_Controllers'],\n",
    "               entry['PPC Nominal Power'],entry['PPC Controller'],entry['Name'],))\n",
    "    \n",
    "    cur.execute(''' UPDATE INVERTERS SET man_id = ? WHERE id = ?''', (inv_man_id,inv_id))\n",
    "    \n",
    "    cur.execute(''' UPDATE PPC_METERS SET man_id = ? WHERE id = ? ''', (meter_man_id,meter_id))"
   ]
  },
  {
   "cell_type": "code",
   "execution_count": 14,
   "metadata": {},
   "outputs": [
    {
     "data": {
      "text/plain": [
       "{'Name': 'Anemos_Mali_Madi',\n",
       " 'Inverter': ([], []),\n",
       " 'PPC Meter': ['-', '-'],\n",
       " 'Country': 'Greece',\n",
       " 'Grid_Code': 'None',\n",
       " 'PPC Controller': '-',\n",
       " 'Portal Name': 'Anemos_Mali_Madi',\n",
       " 'PPC Nominal Power': '-',\n",
       " '#_Controllers': 1,\n",
       " 'PPC ip': ['-'],\n",
       " 'Rest ips': ['172.17.17.178']}"
      ]
     },
     "execution_count": 14,
     "metadata": {},
     "output_type": "execute_result"
    }
   ],
   "source": [
    "entry"
   ]
  },
  {
   "cell_type": "code",
   "execution_count": 15,
   "metadata": {},
   "outputs": [
    {
     "name": "stdout",
     "output_type": "stream",
     "text": [
      "\u001b[31mAnemos_Mali_Madi\u001b[0m\n",
      "\n"
     ]
    }
   ],
   "source": [
    "data = parse_ods('Anemos_Mali_Madi',path_to_files)"
   ]
  },
  {
   "cell_type": "code",
   "execution_count": 17,
   "metadata": {},
   "outputs": [],
   "source": [
    "man = ['None']\n",
    "inv = ['None']\n",
    "inv =  list(set(data['PV array']['Inverter']['Model']))"
   ]
  },
  {
   "cell_type": "code",
   "execution_count": 20,
   "metadata": {},
   "outputs": [
    {
     "ename": "AttributeError",
     "evalue": "'list' object has no attribute 'isempty'",
     "output_type": "error",
     "traceback": [
      "\u001b[0;31m---------------------------------------------------------------------------\u001b[0m",
      "\u001b[0;31mAttributeError\u001b[0m                            Traceback (most recent call last)",
      "\u001b[0;32m<ipython-input-20-3716144b95f2>\u001b[0m in \u001b[0;36m<module>\u001b[0;34m\u001b[0m\n\u001b[0;32m----> 1\u001b[0;31m \u001b[0minv\u001b[0m\u001b[0;34m.\u001b[0m\u001b[0misempty\u001b[0m\u001b[0;34m(\u001b[0m\u001b[0;34m)\u001b[0m\u001b[0;34m\u001b[0m\u001b[0;34m\u001b[0m\u001b[0m\n\u001b[0m",
      "\u001b[0;31mAttributeError\u001b[0m: 'list' object has no attribute 'isempty'"
     ]
    }
   ],
   "source": [
    "inv.is"
   ]
  },
  {
   "cell_type": "code",
   "execution_count": 19,
   "metadata": {},
   "outputs": [
    {
     "data": {
      "text/plain": [
       "True"
      ]
     },
     "execution_count": 19,
     "metadata": {},
     "output_type": "execute_result"
    }
   ],
   "source": [
    "not inv"
   ]
  },
  {
   "cell_type": "code",
   "execution_count": 129,
   "metadata": {},
   "outputs": [
    {
     "data": {
      "text/plain": [
       "[None]"
      ]
     },
     "execution_count": 129,
     "metadata": {},
     "output_type": "execute_result"
    }
   ],
   "source": [
    "man"
   ]
  },
  {
   "cell_type": "code",
   "execution_count": 130,
   "metadata": {},
   "outputs": [
    {
     "data": {
      "text/plain": [
       "True"
      ]
     },
     "execution_count": 130,
     "metadata": {},
     "output_type": "execute_result"
    }
   ],
   "source": [
    "man == [None]"
   ]
  },
  {
   "cell_type": "code",
   "execution_count": 12,
   "metadata": {},
   "outputs": [],
   "source": [
    "a= None"
   ]
  },
  {
   "cell_type": "code",
   "execution_count": 8,
   "metadata": {},
   "outputs": [],
   "source": [
    "b = [None, 1]\n"
   ]
  },
  {
   "cell_type": "code",
   "execution_count": 14,
   "metadata": {},
   "outputs": [
    {
     "data": {
      "text/plain": [
       "False"
      ]
     },
     "execution_count": 14,
     "metadata": {},
     "output_type": "execute_result"
    }
   ],
   "source": [
    "a == b"
   ]
  },
  {
   "cell_type": "code",
   "execution_count": 18,
   "metadata": {},
   "outputs": [
    {
     "ename": "ValueError",
     "evalue": "None is not in list",
     "output_type": "error",
     "traceback": [
      "\u001b[0;31m---------------------------------------------------------------------------\u001b[0m",
      "\u001b[0;31mValueError\u001b[0m                                Traceback (most recent call last)",
      "\u001b[0;32m<ipython-input-18-d417c73ad0aa>\u001b[0m in \u001b[0;36m<module>\u001b[0;34m\u001b[0m\n\u001b[0;32m----> 1\u001b[0;31m \u001b[0mb\u001b[0m\u001b[0;34m.\u001b[0m\u001b[0mindex\u001b[0m\u001b[0;34m(\u001b[0m\u001b[0;32mNone\u001b[0m\u001b[0;34m)\u001b[0m\u001b[0;34m\u001b[0m\u001b[0;34m\u001b[0m\u001b[0m\n\u001b[0m",
      "\u001b[0;31mValueError\u001b[0m: None is not in list"
     ]
    }
   ],
   "source": [
    "b.index(None)"
   ]
  },
  {
   "cell_type": "code",
   "execution_count": 9,
   "metadata": {},
   "outputs": [
    {
     "data": {
      "text/plain": [
       "[None, 1]"
      ]
     },
     "execution_count": 9,
     "metadata": {},
     "output_type": "execute_result"
    }
   ],
   "source": [
    "b"
   ]
  },
  {
   "cell_type": "code",
   "execution_count": null,
   "metadata": {},
   "outputs": [],
   "source": []
  }
 ],
 "metadata": {
  "kernelspec": {
   "display_name": "Python 3",
   "language": "python",
   "name": "python3"
  },
  "language_info": {
   "codemirror_mode": {
    "name": "ipython",
    "version": 3
   },
   "file_extension": ".py",
   "mimetype": "text/x-python",
   "name": "python",
   "nbconvert_exporter": "python",
   "pygments_lexer": "ipython3",
   "version": "3.6.9"
  }
 },
 "nbformat": 4,
 "nbformat_minor": 2
}
