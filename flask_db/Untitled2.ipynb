{
 "cells": [
  {
   "cell_type": "code",
   "execution_count": 1,
   "metadata": {},
   "outputs": [],
   "source": [
    "import base64\n",
    "import datetime\n",
    "import io\n",
    "import numpy as np\n",
    "import pandas as pd\n",
    "# from .layout import html_layout\n",
    "\n",
    "from pathlib import Path\n",
    "import dash\n",
    "from dash.dependencies import Input, Output, State\n",
    "import dash_table\n",
    "import dash_html_components as html\n",
    "import dash_core_components as dcc\n",
    "# import dash_daq as daq\n",
    "# import plotly.express as px\n",
    "import plotly.graph_objects as go"
   ]
  },
  {
   "cell_type": "code",
   "execution_count": 5,
   "metadata": {},
   "outputs": [],
   "source": [
    "d={'props': {'children': [{'props': {'columns': [{'name': 'TIME', 'id': 'TIME'}, {'name': 'ppc:P0', 'id': 'ppc:P0'}, {'name': 'ppc:F', 'id': 'ppc:F'}, {'name': 'ppc:Q0', 'id': 'ppc:Q0'}, {'name': 'ppc:V0', 'id': 'ppc:V0'}, {'name': 'ppc:PF', 'id': 'ppc:PF'}, {'name': 'apc:En', 'id': 'apc:En'}, {'name': 'apc:FCEn', 'id': 'apc:FCEn'}, {'name': 'rpc:En', 'id': 'rpc:En'}, {'name': 'rpc:VCEn', 'id': 'rpc:VCEn'}, {'name': 'pfc:En', 'id': 'pfc:En'}, {'name': 'apc:PSP0_eff', 'id': 'apc:PSP0_eff'}, {'name': 'apc:FSP', 'id': 'apc:FSP'}, {'name': 'rpc:QSP0_eff', 'id': 'rpc:QSP0_eff'}, {'name': 'rpc:VSP0', 'id': 'rpc:VSP0'}, {'name': 'pfc:PFSP', 'id': 'pfc:PFSP'}, {'name': 'apc:PID_Status', 'id': 'apc:PID_Status'}, {'name': 'rpc:PID_Status', 'id': 'rpc:PID_Status'}, {'name': 'ppc:CSel', 'id': 'ppc:CSel'}, {'name': 'apc:CSelOvr_S', 'id': 'apc:CSelOvr_S'}, {'name': 'rpc:CSelOvr_S', 'id': 'rpc:CSelOvr_S'}, {'name': 'apc:FSrc', 'id': 'apc:FSrc'}, {'name': 'apc:FODroop', 'id': 'apc:FODroop'}], 'css': [{'selector': 'input.current-page', 'rule': 'width:40px;'}], 'data': [{'TIME': '1900-01-01T15:53:19', 'ppc:P0': 25500, 'ppc:F': 50.01, 'ppc:Q0': 1260, 'ppc:V0': 136956, 'ppc:PF': 0.999, 'apc:En': 0, 'apc:FCEn': 0, 'rpc:En': 0, 'rpc:VCEn': 0, 'pfc:En': 0, 'apc:PSP0_eff': 0, 'apc:FSP': 0, 'rpc:QSP0_eff': 0, 'rpc:VSP0': 0, 'pfc:PFSP': 0, 'apc:PID_Status': 0, 'rpc:PID_Status': 0, 'ppc:CSel': 0, 'apc:CSelOvr_S': 8, 'rpc:CSelOvr_S': 8, 'apc:FSrc': 0, 'apc:FODroop': 0}, {'TIME': '1900-01-01T15:53:20', 'ppc:P0': 25500, 'ppc:F': 50.01, 'ppc:Q0': 1260, 'ppc:V0': 136908, 'ppc:PF': 0.999, 'apc:En': 0, 'apc:FCEn': 0, 'rpc:En': 0, 'rpc:VCEn': 0, 'pfc:En': 0, 'apc:PSP0_eff': 0, 'apc:FSP': 0, 'rpc:QSP0_eff': 0, 'rpc:VSP0': 0, 'pfc:PFSP': 0, 'apc:PID_Status': 0, 'rpc:PID_Status': 0, 'ppc:CSel': 0, 'apc:CSelOvr_S': 8, 'rpc:CSelOvr_S': 8, 'apc:FSrc': 0, 'apc:FODroop': 0}], 'id': 'data-table', 'filter_action': 'native', 'style_table': {'maxHeight': '200px', 'overflowY': 'scroll'}, 'style_cell': {'textAlign': 'left'}, 'style_header': {'backgroundColor': 'black', 'color': 'white', 'fontWeight': 'bold'}, 'derived_filter_query_structure': None, 'derived_virtual_data': [{'TIME': '1900-01-01T15:53:19', 'ppc:P0': 25500, 'ppc:F': 50.01, 'ppc:Q0': 1260, 'ppc:V0': 136956, 'ppc:PF': 0.999, 'apc:En': 0, 'apc:FCEn': 0, 'rpc:En': 0, 'rpc:VCEn': 0, 'pfc:En': 0, 'apc:PSP0_eff': 0, 'apc:FSP': 0, 'rpc:QSP0_eff': 0, 'rpc:VSP0': 0, 'pfc:PFSP': 0, 'apc:PID_Status': 0, 'rpc:PID_Status': 0, 'ppc:CSel': 0, 'apc:CSelOvr_S': 8, 'rpc:CSelOvr_S': 8, 'apc:FSrc': 0, 'apc:FODroop': 0}, {'TIME': '1900-01-01T15:53:20', 'ppc:P0': 25500, 'ppc:F': 50.01, 'ppc:Q0': 1260, 'ppc:V0': 136908, 'ppc:PF': 0.999, 'apc:En': 0, 'apc:FCEn': 0, 'rpc:En': 0, 'rpc:VCEn': 0, 'pfc:En': 0, 'apc:PSP0_eff': 0, 'apc:FSP': 0, 'rpc:QSP0_eff': 0, 'rpc:VSP0': 0, 'pfc:PFSP': 0, 'apc:PID_Status': 0, 'rpc:PID_Status': 0, 'ppc:CSel': 0, 'apc:CSelOvr_S': 8, 'rpc:CSelOvr_S': 8, 'apc:FSrc': 0, 'apc:FODroop': 0}], 'derived_virtual_indices': [0, 1], 'derived_virtual_row_ids': [None, None], 'derived_viewport_data': [{'TIME': '1900-01-01T15:53:19', 'ppc:P0': 25500, 'ppc:F': 50.01, 'ppc:Q0': 1260, 'ppc:V0': 136956, 'ppc:PF': 0.999, 'apc:En': 0, 'apc:FCEn': 0, 'rpc:En': 0, 'rpc:VCEn': 0, 'pfc:En': 0, 'apc:PSP0_eff': 0, 'apc:FSP': 0, 'rpc:QSP0_eff': 0, 'rpc:VSP0': 0, 'pfc:PFSP': 0, 'apc:PID_Status': 0, 'rpc:PID_Status': 0, 'ppc:CSel': 0, 'apc:CSelOvr_S': 8, 'rpc:CSelOvr_S': 8, 'apc:FSrc': 0, 'apc:FODroop': 0}, {'TIME': '1900-01-01T15:53:20', 'ppc:P0': 25500, 'ppc:F': 50.01, 'ppc:Q0': 1260, 'ppc:V0': 136908, 'ppc:PF': 0.999, 'apc:En': 0, 'apc:FCEn': 0, 'rpc:En': 0, 'rpc:VCEn': 0, 'pfc:En': 0, 'apc:PSP0_eff': 0, 'apc:FSP': 0, 'rpc:QSP0_eff': 0, 'rpc:VSP0': 0, 'pfc:PFSP': 0, 'apc:PID_Status': 0, 'rpc:PID_Status': 0, 'ppc:CSel': 0, 'apc:CSelOvr_S': 8, 'rpc:CSelOvr_S': 8, 'apc:FSrc': 0, 'apc:FODroop': 0}], 'derived_viewport_indices': [0, 1], 'derived_viewport_row_ids': [None, None], 'derived_virtual_selected_rows': [], 'derived_virtual_selected_row_ids': [], 'derived_viewport_selected_columns': [], 'derived_viewport_selected_rows': [], 'derived_viewport_selected_row_ids': []}, 'type': 'DataTable', 'namespace': 'dash_table'}]}, 'type': 'Div', 'namespace': 'dash_html_components'}\n"
   ]
  },
  {
   "cell_type": "code",
   "execution_count": 27,
   "metadata": {},
   "outputs": [
    {
     "data": {
      "text/plain": [
       "dict_keys(['columns', 'css', 'data', 'id', 'filter_action', 'style_table', 'style_cell', 'style_header', 'derived_filter_query_structure', 'derived_virtual_data', 'derived_virtual_indices', 'derived_virtual_row_ids', 'derived_viewport_data', 'derived_viewport_indices', 'derived_viewport_row_ids', 'derived_virtual_selected_rows', 'derived_virtual_selected_row_ids', 'derived_viewport_selected_columns', 'derived_viewport_selected_rows', 'derived_viewport_selected_row_ids'])"
      ]
     },
     "execution_count": 27,
     "metadata": {},
     "output_type": "execute_result"
    }
   ],
   "source": [
    "d['props']['children'][0]['props'].keys()"
   ]
  },
  {
   "cell_type": "code",
   "execution_count": 41,
   "metadata": {},
   "outputs": [
    {
     "data": {
      "text/html": [
       "<div>\n",
       "<style scoped>\n",
       "    .dataframe tbody tr th:only-of-type {\n",
       "        vertical-align: middle;\n",
       "    }\n",
       "\n",
       "    .dataframe tbody tr th {\n",
       "        vertical-align: top;\n",
       "    }\n",
       "\n",
       "    .dataframe thead th {\n",
       "        text-align: right;\n",
       "    }\n",
       "</style>\n",
       "<table border=\"1\" class=\"dataframe\">\n",
       "  <thead>\n",
       "    <tr style=\"text-align: right;\">\n",
       "      <th></th>\n",
       "      <th>TIME</th>\n",
       "      <th>ppc:P0</th>\n",
       "      <th>ppc:F</th>\n",
       "      <th>ppc:Q0</th>\n",
       "      <th>ppc:V0</th>\n",
       "      <th>ppc:PF</th>\n",
       "      <th>apc:En</th>\n",
       "      <th>apc:FCEn</th>\n",
       "      <th>rpc:En</th>\n",
       "      <th>rpc:VCEn</th>\n",
       "      <th>...</th>\n",
       "      <th>rpc:QSP0_eff</th>\n",
       "      <th>rpc:VSP0</th>\n",
       "      <th>pfc:PFSP</th>\n",
       "      <th>apc:PID_Status</th>\n",
       "      <th>rpc:PID_Status</th>\n",
       "      <th>ppc:CSel</th>\n",
       "      <th>apc:CSelOvr_S</th>\n",
       "      <th>rpc:CSelOvr_S</th>\n",
       "      <th>apc:FSrc</th>\n",
       "      <th>apc:FODroop</th>\n",
       "    </tr>\n",
       "  </thead>\n",
       "  <tbody>\n",
       "    <tr>\n",
       "      <th>0</th>\n",
       "      <td>1900-01-01T15:53:19</td>\n",
       "      <td>25500</td>\n",
       "      <td>50.01</td>\n",
       "      <td>1260</td>\n",
       "      <td>136956</td>\n",
       "      <td>0.999</td>\n",
       "      <td>0</td>\n",
       "      <td>0</td>\n",
       "      <td>0</td>\n",
       "      <td>0</td>\n",
       "      <td>...</td>\n",
       "      <td>0</td>\n",
       "      <td>0</td>\n",
       "      <td>0</td>\n",
       "      <td>0</td>\n",
       "      <td>0</td>\n",
       "      <td>0</td>\n",
       "      <td>8</td>\n",
       "      <td>8</td>\n",
       "      <td>0</td>\n",
       "      <td>0</td>\n",
       "    </tr>\n",
       "    <tr>\n",
       "      <th>1</th>\n",
       "      <td>1900-01-01T15:53:20</td>\n",
       "      <td>25500</td>\n",
       "      <td>50.01</td>\n",
       "      <td>1260</td>\n",
       "      <td>136908</td>\n",
       "      <td>0.999</td>\n",
       "      <td>0</td>\n",
       "      <td>0</td>\n",
       "      <td>0</td>\n",
       "      <td>0</td>\n",
       "      <td>...</td>\n",
       "      <td>0</td>\n",
       "      <td>0</td>\n",
       "      <td>0</td>\n",
       "      <td>0</td>\n",
       "      <td>0</td>\n",
       "      <td>0</td>\n",
       "      <td>8</td>\n",
       "      <td>8</td>\n",
       "      <td>0</td>\n",
       "      <td>0</td>\n",
       "    </tr>\n",
       "  </tbody>\n",
       "</table>\n",
       "<p>2 rows × 23 columns</p>\n",
       "</div>"
      ],
      "text/plain": [
       "                  TIME  ppc:P0  ppc:F  ppc:Q0  ppc:V0  ppc:PF  apc:En  \\\n",
       "0  1900-01-01T15:53:19   25500  50.01    1260  136956   0.999       0   \n",
       "1  1900-01-01T15:53:20   25500  50.01    1260  136908   0.999       0   \n",
       "\n",
       "   apc:FCEn  rpc:En  rpc:VCEn  ...  rpc:QSP0_eff  rpc:VSP0  pfc:PFSP  \\\n",
       "0         0       0         0  ...             0         0         0   \n",
       "1         0       0         0  ...             0         0         0   \n",
       "\n",
       "   apc:PID_Status  rpc:PID_Status  ppc:CSel  apc:CSelOvr_S  rpc:CSelOvr_S  \\\n",
       "0               0               0         0              8              8   \n",
       "1               0               0         0              8              8   \n",
       "\n",
       "   apc:FSrc  apc:FODroop  \n",
       "0         0            0  \n",
       "1         0            0  \n",
       "\n",
       "[2 rows x 23 columns]"
      ]
     },
     "execution_count": 41,
     "metadata": {},
     "output_type": "execute_result"
    }
   ],
   "source": [
    "pd.DataFrame(data)"
   ]
  },
  {
   "cell_type": "code",
   "execution_count": 42,
   "metadata": {},
   "outputs": [],
   "source": [
    "d=[{'props': {'children': [{'props': {'children': ['Title'], 'id': 'title-title'}, 'type': 'Div', 'namespace': 'dash_html_components'}, {'props': {'children': [{'props': {'children': 'Text'}, 'type': 'Span', 'namespace': 'dash_html_components'}, {'props': {'children': ' (Prefix <b>(bold),<i>(italic))', 'style': {'fontSize': '12px'}}, 'type': 'Span', 'namespace': 'dash_html_components'}, {'props': {'id': 'title-input-text', 'value': 'Title', 'style': {'marginTop': '0.75rem', 'width': '100%'}, 'type': 'text'}, 'type': 'Input', 'namespace': 'dash_core_components'}, {'props': {'children': None}, 'type': 'Hr', 'namespace': 'dash_html_components'}], 'id': 'tite-input'}, 'type': 'Div', 'namespace': 'dash_html_components'}, {'props': {'children': [{'props': {'children': 'FontSize'}, 'type': 'P', 'namespace': 'dash_html_components'}, {'props': {'id': 'title-input-size', 'value': 30, 'style': {'width': '30%'}, 'type': 'number', 'min': 2, 'step': 1}, 'type': 'Input', 'namespace': 'dash_core_components'}, {'props': {'children': None}, 'type': 'Hr', 'namespace': 'dash_html_components'}], 'id': 'title-fonsize'}, 'type': 'Div', 'namespace': 'dash_html_components'}, {'props': {'children': [{'props': {'children': 'FontFamily'}, 'type': 'P', 'namespace': 'dash_html_components'}, {'props': {'id': 'title-input-family', 'options': [{'label': 'Arial', 'value': 'Arial'}, {'label': 'Balto', 'value': 'Balto'}, {'label': 'Courier New', 'value': 'Courier New'}, {'label': 'Droid Sans', 'value': 'Droid Sans'}, {'label': 'Droid Serif', 'value': 'Droid Serif'}, {'label': 'Droid Sans Mono', 'value': 'Droid Sans Mono'}, {'label': 'Gravitas One', 'value': 'Gravitas One'}, {'label': 'Old Standard TT', 'value': 'Old Standard TT'}, {'label': 'Open Sans', 'value': 'Open Sans'}, {'label': 'Overpass', 'value': 'Overpass'}, {'label': 'PT Sans Narrow', 'value': 'PT Sans Narrow'}, {'label': 'Raleway', 'value': 'Raleway'}, {'label': 'Times New Roman', 'value': 'Times New Roman'}], 'value': 'Arial', 'placeholder': 'Select a Font Family', 'style': {'width': '80%'}}, 'type': 'Dropdown', 'namespace': 'dash_core_components'}, {'props': {'children': None}, 'type': 'Hr', 'namespace': 'dash_html_components'}], 'id': 'title-fontfamily'}, 'type': 'Div', 'namespace': 'dash_html_components'}, {'props': {'children': [{'props': {'children': 'FontColor'}, 'type': 'P', 'namespace': 'dash_html_components'}, {'props': {'id': 'my-color-picker', 'value': {'hex': '#000000'}, 'style': {'width': '100%', 'border': 'none', 'backgroundColor': '#ebf0f8'}}, 'type': 'ColorPicker', 'namespace': 'dash_daq'}, {'props': {'children': None, 'id': 'color-picker-output'}, 'type': 'Div', 'namespace': 'dash_html_components'}, {'props': {'children': None}, 'type': 'Hr', 'namespace': 'dash_html_components'}], 'id': 'title-fontcolor'}, 'type': 'Div', 'namespace': 'dash_html_components'}, {'props': {'children': [{'props': {'children': 'Horizontal Position'}, 'type': 'P', 'namespace': 'dash_html_components'}, {'props': {'id': 'title-input-position', 'value': 0.5, 'style': {'width': '30%'}, 'type': 'number', 'max': 1, 'min': 0, 'step': 0.05}, 'type': 'Input', 'namespace': 'dash_core_components'}, {'props': {'children': None}, 'type': 'Hr', 'namespace': 'dash_html_components'}], 'id': 'title-position'}, 'type': 'Div', 'namespace': 'dash_html_components'}], 'id': 'conf-title', 'className': 'conf', 'style': {'display': 'none'}}, 'type': 'Div', 'namespace': 'dash_html_components'}, {'props': {'children': [{'props': {'children': ['Traces'], 'id': 'traces-title'}, 'type': 'Div', 'namespace': 'dash_html_components'}, {'props': {'children': [{'props': {'children': 'Select X trace'}, 'type': 'Span', 'namespace': 'dash_html_components'}, {'props': {'id': 'xtrace-input-select', 'placeholder': 'Select x trace', 'style': {'width': '80%'}}, 'type': 'Dropdown', 'namespace': 'dash_core_components'}, {'props': {'children': None}, 'type': 'Hr', 'namespace': 'dash_html_components'}], 'id': 'xtrace-select'}, 'type': 'Div', 'namespace': 'dash_html_components'}, {'props': {'children': [{'props': {'children': 'Select Y trace'}, 'type': 'Span', 'namespace': 'dash_html_components'}, {'props': {'id': 'ytrace-input-select', 'placeholder': 'Select y trace', 'style': {'width': '80%'}}, 'type': 'Dropdown', 'namespace': 'dash_core_components'}, {'props': {'children': None}, 'type': 'Hr', 'namespace': 'dash_html_components'}], 'id': 'ytrace-select'}, 'type': 'Div', 'namespace': 'dash_html_components'}], 'id': 'conf-traces', 'className': 'conf', 'style': {'display': 'none'}}, 'type': 'Div', 'namespace': 'dash_html_components'}]"
   ]
  },
  {
   "cell_type": "code",
   "execution_count": 57,
   "metadata": {},
   "outputs": [
    {
     "data": {
      "text/plain": [
       "{'display': 'none'}"
      ]
     },
     "execution_count": 57,
     "metadata": {},
     "output_type": "execute_result"
    }
   ],
   "source": [
    "d[0]['props']['style']"
   ]
  },
  {
   "cell_type": "code",
   "execution_count": 5,
   "metadata": {},
   "outputs": [],
   "source": [
    "import pandas as pd\n",
    "data=[{'TIME': '1900-01-01T15:53:19', 'ppc:P0': 25500, 'ppc:F': 50.01, 'ppc:Q0': 1260, 'ppc:V0': 136956, 'ppc:PF': 0.999, 'apc:En': 0, 'apc:FCEn': 0, 'rpc:En': 0, 'rpc:VCEn': 0, 'pfc:En': 0, 'apc:PSP0_eff': 0, 'apc:FSP': 0, 'rpc:QSP0_eff': 0, 'rpc:VSP0': 0, 'pfc:PFSP': 0, 'apc:PID_Status': 0, 'rpc:PID_Status': 0, 'ppc:CSel': 0, 'apc:CSelOvr_S': 8, 'rpc:CSelOvr_S': 8, 'apc:FSrc': 0, 'apc:FODroop': 0}, {'TIME': '1900-01-01T15:53:20', 'ppc:P0': 25500, 'ppc:F': 50.01, 'ppc:Q0': 1260, 'ppc:V0': 136908, 'ppc:PF': 0.999, 'apc:En': 0, 'apc:FCEn': 0, 'rpc:En': 0, 'rpc:VCEn': 0, 'pfc:En': 0, 'apc:PSP0_eff': 0, 'apc:FSP': 0, 'rpc:QSP0_eff': 0, 'rpc:VSP0': 0, 'pfc:PFSP': 0, 'apc:PID_Status': 0, 'rpc:PID_Status': 0, 'ppc:CSel': 0, 'apc:CSelOvr_S': 8, 'rpc:CSelOvr_S': 8, 'apc:FSrc': 0, 'apc:FODroop': 0}]\n",
    "data = pd.DataFrame(data)"
   ]
  },
  {
   "cell_type": "code",
   "execution_count": 62,
   "metadata": {},
   "outputs": [
    {
     "data": {
      "text/plain": [
       "['1900-01-01T15:53:19', '1900-01-01T15:53:20']"
      ]
     },
     "execution_count": 62,
     "metadata": {},
     "output_type": "execute_result"
    }
   ],
   "source": [
    "data['TIME'].to_list()"
   ]
  },
  {
   "cell_type": "code",
   "execution_count": 19,
   "metadata": {},
   "outputs": [
    {
     "data": {
      "application/vnd.plotly.v1+json": {
       "config": {
        "plotlyServerURL": "https://plot.ly"
       },
       "data": [
        {
         "mode": "lines",
         "type": "scatter",
         "x": [
          1,
          2,
          3
         ],
         "y": [
          1,
          3,
          2
         ]
        },
        {
         "mode": "lines",
         "type": "scatter",
         "x": [
          1,
          2,
          3
         ],
         "y": [
          1,
          5,
          2
         ]
        }
       ],
       "layout": {
        "template": {
         "data": {
          "bar": [
           {
            "error_x": {
             "color": "#2a3f5f"
            },
            "error_y": {
             "color": "#2a3f5f"
            },
            "marker": {
             "line": {
              "color": "#E5ECF6",
              "width": 0.5
             }
            },
            "type": "bar"
           }
          ],
          "barpolar": [
           {
            "marker": {
             "line": {
              "color": "#E5ECF6",
              "width": 0.5
             }
            },
            "type": "barpolar"
           }
          ],
          "carpet": [
           {
            "aaxis": {
             "endlinecolor": "#2a3f5f",
             "gridcolor": "white",
             "linecolor": "white",
             "minorgridcolor": "white",
             "startlinecolor": "#2a3f5f"
            },
            "baxis": {
             "endlinecolor": "#2a3f5f",
             "gridcolor": "white",
             "linecolor": "white",
             "minorgridcolor": "white",
             "startlinecolor": "#2a3f5f"
            },
            "type": "carpet"
           }
          ],
          "choropleth": [
           {
            "colorbar": {
             "outlinewidth": 0,
             "ticks": ""
            },
            "type": "choropleth"
           }
          ],
          "contour": [
           {
            "colorbar": {
             "outlinewidth": 0,
             "ticks": ""
            },
            "colorscale": [
             [
              0,
              "#0d0887"
             ],
             [
              0.1111111111111111,
              "#46039f"
             ],
             [
              0.2222222222222222,
              "#7201a8"
             ],
             [
              0.3333333333333333,
              "#9c179e"
             ],
             [
              0.4444444444444444,
              "#bd3786"
             ],
             [
              0.5555555555555556,
              "#d8576b"
             ],
             [
              0.6666666666666666,
              "#ed7953"
             ],
             [
              0.7777777777777778,
              "#fb9f3a"
             ],
             [
              0.8888888888888888,
              "#fdca26"
             ],
             [
              1,
              "#f0f921"
             ]
            ],
            "type": "contour"
           }
          ],
          "contourcarpet": [
           {
            "colorbar": {
             "outlinewidth": 0,
             "ticks": ""
            },
            "type": "contourcarpet"
           }
          ],
          "heatmap": [
           {
            "colorbar": {
             "outlinewidth": 0,
             "ticks": ""
            },
            "colorscale": [
             [
              0,
              "#0d0887"
             ],
             [
              0.1111111111111111,
              "#46039f"
             ],
             [
              0.2222222222222222,
              "#7201a8"
             ],
             [
              0.3333333333333333,
              "#9c179e"
             ],
             [
              0.4444444444444444,
              "#bd3786"
             ],
             [
              0.5555555555555556,
              "#d8576b"
             ],
             [
              0.6666666666666666,
              "#ed7953"
             ],
             [
              0.7777777777777778,
              "#fb9f3a"
             ],
             [
              0.8888888888888888,
              "#fdca26"
             ],
             [
              1,
              "#f0f921"
             ]
            ],
            "type": "heatmap"
           }
          ],
          "heatmapgl": [
           {
            "colorbar": {
             "outlinewidth": 0,
             "ticks": ""
            },
            "colorscale": [
             [
              0,
              "#0d0887"
             ],
             [
              0.1111111111111111,
              "#46039f"
             ],
             [
              0.2222222222222222,
              "#7201a8"
             ],
             [
              0.3333333333333333,
              "#9c179e"
             ],
             [
              0.4444444444444444,
              "#bd3786"
             ],
             [
              0.5555555555555556,
              "#d8576b"
             ],
             [
              0.6666666666666666,
              "#ed7953"
             ],
             [
              0.7777777777777778,
              "#fb9f3a"
             ],
             [
              0.8888888888888888,
              "#fdca26"
             ],
             [
              1,
              "#f0f921"
             ]
            ],
            "type": "heatmapgl"
           }
          ],
          "histogram": [
           {
            "marker": {
             "colorbar": {
              "outlinewidth": 0,
              "ticks": ""
             }
            },
            "type": "histogram"
           }
          ],
          "histogram2d": [
           {
            "colorbar": {
             "outlinewidth": 0,
             "ticks": ""
            },
            "colorscale": [
             [
              0,
              "#0d0887"
             ],
             [
              0.1111111111111111,
              "#46039f"
             ],
             [
              0.2222222222222222,
              "#7201a8"
             ],
             [
              0.3333333333333333,
              "#9c179e"
             ],
             [
              0.4444444444444444,
              "#bd3786"
             ],
             [
              0.5555555555555556,
              "#d8576b"
             ],
             [
              0.6666666666666666,
              "#ed7953"
             ],
             [
              0.7777777777777778,
              "#fb9f3a"
             ],
             [
              0.8888888888888888,
              "#fdca26"
             ],
             [
              1,
              "#f0f921"
             ]
            ],
            "type": "histogram2d"
           }
          ],
          "histogram2dcontour": [
           {
            "colorbar": {
             "outlinewidth": 0,
             "ticks": ""
            },
            "colorscale": [
             [
              0,
              "#0d0887"
             ],
             [
              0.1111111111111111,
              "#46039f"
             ],
             [
              0.2222222222222222,
              "#7201a8"
             ],
             [
              0.3333333333333333,
              "#9c179e"
             ],
             [
              0.4444444444444444,
              "#bd3786"
             ],
             [
              0.5555555555555556,
              "#d8576b"
             ],
             [
              0.6666666666666666,
              "#ed7953"
             ],
             [
              0.7777777777777778,
              "#fb9f3a"
             ],
             [
              0.8888888888888888,
              "#fdca26"
             ],
             [
              1,
              "#f0f921"
             ]
            ],
            "type": "histogram2dcontour"
           }
          ],
          "mesh3d": [
           {
            "colorbar": {
             "outlinewidth": 0,
             "ticks": ""
            },
            "type": "mesh3d"
           }
          ],
          "parcoords": [
           {
            "line": {
             "colorbar": {
              "outlinewidth": 0,
              "ticks": ""
             }
            },
            "type": "parcoords"
           }
          ],
          "pie": [
           {
            "automargin": true,
            "type": "pie"
           }
          ],
          "scatter": [
           {
            "marker": {
             "colorbar": {
              "outlinewidth": 0,
              "ticks": ""
             }
            },
            "type": "scatter"
           }
          ],
          "scatter3d": [
           {
            "line": {
             "colorbar": {
              "outlinewidth": 0,
              "ticks": ""
             }
            },
            "marker": {
             "colorbar": {
              "outlinewidth": 0,
              "ticks": ""
             }
            },
            "type": "scatter3d"
           }
          ],
          "scattercarpet": [
           {
            "marker": {
             "colorbar": {
              "outlinewidth": 0,
              "ticks": ""
             }
            },
            "type": "scattercarpet"
           }
          ],
          "scattergeo": [
           {
            "marker": {
             "colorbar": {
              "outlinewidth": 0,
              "ticks": ""
             }
            },
            "type": "scattergeo"
           }
          ],
          "scattergl": [
           {
            "marker": {
             "colorbar": {
              "outlinewidth": 0,
              "ticks": ""
             }
            },
            "type": "scattergl"
           }
          ],
          "scattermapbox": [
           {
            "marker": {
             "colorbar": {
              "outlinewidth": 0,
              "ticks": ""
             }
            },
            "type": "scattermapbox"
           }
          ],
          "scatterpolar": [
           {
            "marker": {
             "colorbar": {
              "outlinewidth": 0,
              "ticks": ""
             }
            },
            "type": "scatterpolar"
           }
          ],
          "scatterpolargl": [
           {
            "marker": {
             "colorbar": {
              "outlinewidth": 0,
              "ticks": ""
             }
            },
            "type": "scatterpolargl"
           }
          ],
          "scatterternary": [
           {
            "marker": {
             "colorbar": {
              "outlinewidth": 0,
              "ticks": ""
             }
            },
            "type": "scatterternary"
           }
          ],
          "surface": [
           {
            "colorbar": {
             "outlinewidth": 0,
             "ticks": ""
            },
            "colorscale": [
             [
              0,
              "#0d0887"
             ],
             [
              0.1111111111111111,
              "#46039f"
             ],
             [
              0.2222222222222222,
              "#7201a8"
             ],
             [
              0.3333333333333333,
              "#9c179e"
             ],
             [
              0.4444444444444444,
              "#bd3786"
             ],
             [
              0.5555555555555556,
              "#d8576b"
             ],
             [
              0.6666666666666666,
              "#ed7953"
             ],
             [
              0.7777777777777778,
              "#fb9f3a"
             ],
             [
              0.8888888888888888,
              "#fdca26"
             ],
             [
              1,
              "#f0f921"
             ]
            ],
            "type": "surface"
           }
          ],
          "table": [
           {
            "cells": {
             "fill": {
              "color": "#EBF0F8"
             },
             "line": {
              "color": "white"
             }
            },
            "header": {
             "fill": {
              "color": "#C8D4E3"
             },
             "line": {
              "color": "white"
             }
            },
            "type": "table"
           }
          ]
         },
         "layout": {
          "annotationdefaults": {
           "arrowcolor": "#2a3f5f",
           "arrowhead": 0,
           "arrowwidth": 1
          },
          "coloraxis": {
           "colorbar": {
            "outlinewidth": 0,
            "ticks": ""
           }
          },
          "colorscale": {
           "diverging": [
            [
             0,
             "#8e0152"
            ],
            [
             0.1,
             "#c51b7d"
            ],
            [
             0.2,
             "#de77ae"
            ],
            [
             0.3,
             "#f1b6da"
            ],
            [
             0.4,
             "#fde0ef"
            ],
            [
             0.5,
             "#f7f7f7"
            ],
            [
             0.6,
             "#e6f5d0"
            ],
            [
             0.7,
             "#b8e186"
            ],
            [
             0.8,
             "#7fbc41"
            ],
            [
             0.9,
             "#4d9221"
            ],
            [
             1,
             "#276419"
            ]
           ],
           "sequential": [
            [
             0,
             "#0d0887"
            ],
            [
             0.1111111111111111,
             "#46039f"
            ],
            [
             0.2222222222222222,
             "#7201a8"
            ],
            [
             0.3333333333333333,
             "#9c179e"
            ],
            [
             0.4444444444444444,
             "#bd3786"
            ],
            [
             0.5555555555555556,
             "#d8576b"
            ],
            [
             0.6666666666666666,
             "#ed7953"
            ],
            [
             0.7777777777777778,
             "#fb9f3a"
            ],
            [
             0.8888888888888888,
             "#fdca26"
            ],
            [
             1,
             "#f0f921"
            ]
           ],
           "sequentialminus": [
            [
             0,
             "#0d0887"
            ],
            [
             0.1111111111111111,
             "#46039f"
            ],
            [
             0.2222222222222222,
             "#7201a8"
            ],
            [
             0.3333333333333333,
             "#9c179e"
            ],
            [
             0.4444444444444444,
             "#bd3786"
            ],
            [
             0.5555555555555556,
             "#d8576b"
            ],
            [
             0.6666666666666666,
             "#ed7953"
            ],
            [
             0.7777777777777778,
             "#fb9f3a"
            ],
            [
             0.8888888888888888,
             "#fdca26"
            ],
            [
             1,
             "#f0f921"
            ]
           ]
          },
          "colorway": [
           "#636efa",
           "#EF553B",
           "#00cc96",
           "#ab63fa",
           "#FFA15A",
           "#19d3f3",
           "#FF6692",
           "#B6E880",
           "#FF97FF",
           "#FECB52"
          ],
          "font": {
           "color": "#2a3f5f"
          },
          "geo": {
           "bgcolor": "white",
           "lakecolor": "white",
           "landcolor": "#E5ECF6",
           "showlakes": true,
           "showland": true,
           "subunitcolor": "white"
          },
          "hoverlabel": {
           "align": "left"
          },
          "hovermode": "closest",
          "mapbox": {
           "style": "light"
          },
          "paper_bgcolor": "white",
          "plot_bgcolor": "#E5ECF6",
          "polar": {
           "angularaxis": {
            "gridcolor": "white",
            "linecolor": "white",
            "ticks": ""
           },
           "bgcolor": "#E5ECF6",
           "radialaxis": {
            "gridcolor": "white",
            "linecolor": "white",
            "ticks": ""
           }
          },
          "scene": {
           "xaxis": {
            "backgroundcolor": "#E5ECF6",
            "gridcolor": "white",
            "gridwidth": 2,
            "linecolor": "white",
            "showbackground": true,
            "ticks": "",
            "zerolinecolor": "white"
           },
           "yaxis": {
            "backgroundcolor": "#E5ECF6",
            "gridcolor": "white",
            "gridwidth": 2,
            "linecolor": "white",
            "showbackground": true,
            "ticks": "",
            "zerolinecolor": "white"
           },
           "zaxis": {
            "backgroundcolor": "#E5ECF6",
            "gridcolor": "white",
            "gridwidth": 2,
            "linecolor": "white",
            "showbackground": true,
            "ticks": "",
            "zerolinecolor": "white"
           }
          },
          "shapedefaults": {
           "line": {
            "color": "#2a3f5f"
           }
          },
          "ternary": {
           "aaxis": {
            "gridcolor": "white",
            "linecolor": "white",
            "ticks": ""
           },
           "baxis": {
            "gridcolor": "white",
            "linecolor": "white",
            "ticks": ""
           },
           "bgcolor": "#E5ECF6",
           "caxis": {
            "gridcolor": "white",
            "linecolor": "white",
            "ticks": ""
           }
          },
          "title": {
           "x": 0.05
          },
          "xaxis": {
           "automargin": true,
           "gridcolor": "white",
           "linecolor": "white",
           "ticks": "",
           "title": {
            "standoff": 15
           },
           "zerolinecolor": "white",
           "zerolinewidth": 2
          },
          "yaxis": {
           "automargin": true,
           "gridcolor": "white",
           "linecolor": "white",
           "ticks": "",
           "title": {
            "standoff": 15
           },
           "zerolinecolor": "white",
           "zerolinewidth": 2
          }
         }
        },
        "title": {
         "text": "A Figure Specified By Python Dictionary"
        }
       }
      },
      "text/html": [
       "<div>\n",
       "        \n",
       "        \n",
       "            <div id=\"60a7b2f7-c5da-4866-9278-3607d97f02a3\" class=\"plotly-graph-div\" style=\"height:525px; width:100%;\"></div>\n",
       "            <script type=\"text/javascript\">\n",
       "                require([\"plotly\"], function(Plotly) {\n",
       "                    window.PLOTLYENV=window.PLOTLYENV || {};\n",
       "                    \n",
       "                if (document.getElementById(\"60a7b2f7-c5da-4866-9278-3607d97f02a3\")) {\n",
       "                    Plotly.newPlot(\n",
       "                        '60a7b2f7-c5da-4866-9278-3607d97f02a3',\n",
       "                        [{\"mode\": \"lines\", \"type\": \"scatter\", \"x\": [1, 2, 3], \"y\": [1, 3, 2]}, {\"mode\": \"lines\", \"type\": \"scatter\", \"x\": [1, 2, 3], \"y\": [1, 5, 2]}],\n",
       "                        {\"template\": {\"data\": {\"bar\": [{\"error_x\": {\"color\": \"#2a3f5f\"}, \"error_y\": {\"color\": \"#2a3f5f\"}, \"marker\": {\"line\": {\"color\": \"#E5ECF6\", \"width\": 0.5}}, \"type\": \"bar\"}], \"barpolar\": [{\"marker\": {\"line\": {\"color\": \"#E5ECF6\", \"width\": 0.5}}, \"type\": \"barpolar\"}], \"carpet\": [{\"aaxis\": {\"endlinecolor\": \"#2a3f5f\", \"gridcolor\": \"white\", \"linecolor\": \"white\", \"minorgridcolor\": \"white\", \"startlinecolor\": \"#2a3f5f\"}, \"baxis\": {\"endlinecolor\": \"#2a3f5f\", \"gridcolor\": \"white\", \"linecolor\": \"white\", \"minorgridcolor\": \"white\", \"startlinecolor\": \"#2a3f5f\"}, \"type\": \"carpet\"}], \"choropleth\": [{\"colorbar\": {\"outlinewidth\": 0, \"ticks\": \"\"}, \"type\": \"choropleth\"}], \"contour\": [{\"colorbar\": {\"outlinewidth\": 0, \"ticks\": \"\"}, \"colorscale\": [[0.0, \"#0d0887\"], [0.1111111111111111, \"#46039f\"], [0.2222222222222222, \"#7201a8\"], [0.3333333333333333, \"#9c179e\"], [0.4444444444444444, \"#bd3786\"], [0.5555555555555556, \"#d8576b\"], [0.6666666666666666, \"#ed7953\"], [0.7777777777777778, \"#fb9f3a\"], [0.8888888888888888, \"#fdca26\"], [1.0, \"#f0f921\"]], \"type\": \"contour\"}], \"contourcarpet\": [{\"colorbar\": {\"outlinewidth\": 0, \"ticks\": \"\"}, \"type\": \"contourcarpet\"}], \"heatmap\": [{\"colorbar\": {\"outlinewidth\": 0, \"ticks\": \"\"}, \"colorscale\": [[0.0, \"#0d0887\"], [0.1111111111111111, \"#46039f\"], [0.2222222222222222, \"#7201a8\"], [0.3333333333333333, \"#9c179e\"], [0.4444444444444444, \"#bd3786\"], [0.5555555555555556, \"#d8576b\"], [0.6666666666666666, \"#ed7953\"], [0.7777777777777778, \"#fb9f3a\"], [0.8888888888888888, \"#fdca26\"], [1.0, \"#f0f921\"]], \"type\": \"heatmap\"}], \"heatmapgl\": [{\"colorbar\": {\"outlinewidth\": 0, \"ticks\": \"\"}, \"colorscale\": [[0.0, \"#0d0887\"], [0.1111111111111111, \"#46039f\"], [0.2222222222222222, \"#7201a8\"], [0.3333333333333333, \"#9c179e\"], [0.4444444444444444, \"#bd3786\"], [0.5555555555555556, \"#d8576b\"], [0.6666666666666666, \"#ed7953\"], [0.7777777777777778, \"#fb9f3a\"], [0.8888888888888888, \"#fdca26\"], [1.0, \"#f0f921\"]], \"type\": \"heatmapgl\"}], \"histogram\": [{\"marker\": {\"colorbar\": {\"outlinewidth\": 0, \"ticks\": \"\"}}, \"type\": \"histogram\"}], \"histogram2d\": [{\"colorbar\": {\"outlinewidth\": 0, \"ticks\": \"\"}, \"colorscale\": [[0.0, \"#0d0887\"], [0.1111111111111111, \"#46039f\"], [0.2222222222222222, \"#7201a8\"], [0.3333333333333333, \"#9c179e\"], [0.4444444444444444, \"#bd3786\"], [0.5555555555555556, \"#d8576b\"], [0.6666666666666666, \"#ed7953\"], [0.7777777777777778, \"#fb9f3a\"], [0.8888888888888888, \"#fdca26\"], [1.0, \"#f0f921\"]], \"type\": \"histogram2d\"}], \"histogram2dcontour\": [{\"colorbar\": {\"outlinewidth\": 0, \"ticks\": \"\"}, \"colorscale\": [[0.0, \"#0d0887\"], [0.1111111111111111, \"#46039f\"], [0.2222222222222222, \"#7201a8\"], [0.3333333333333333, \"#9c179e\"], [0.4444444444444444, \"#bd3786\"], [0.5555555555555556, \"#d8576b\"], [0.6666666666666666, \"#ed7953\"], [0.7777777777777778, \"#fb9f3a\"], [0.8888888888888888, \"#fdca26\"], [1.0, \"#f0f921\"]], \"type\": \"histogram2dcontour\"}], \"mesh3d\": [{\"colorbar\": {\"outlinewidth\": 0, \"ticks\": \"\"}, \"type\": \"mesh3d\"}], \"parcoords\": [{\"line\": {\"colorbar\": {\"outlinewidth\": 0, \"ticks\": \"\"}}, \"type\": \"parcoords\"}], \"pie\": [{\"automargin\": true, \"type\": \"pie\"}], \"scatter\": [{\"marker\": {\"colorbar\": {\"outlinewidth\": 0, \"ticks\": \"\"}}, \"type\": \"scatter\"}], \"scatter3d\": [{\"line\": {\"colorbar\": {\"outlinewidth\": 0, \"ticks\": \"\"}}, \"marker\": {\"colorbar\": {\"outlinewidth\": 0, \"ticks\": \"\"}}, \"type\": \"scatter3d\"}], \"scattercarpet\": [{\"marker\": {\"colorbar\": {\"outlinewidth\": 0, \"ticks\": \"\"}}, \"type\": \"scattercarpet\"}], \"scattergeo\": [{\"marker\": {\"colorbar\": {\"outlinewidth\": 0, \"ticks\": \"\"}}, \"type\": \"scattergeo\"}], \"scattergl\": [{\"marker\": {\"colorbar\": {\"outlinewidth\": 0, \"ticks\": \"\"}}, \"type\": \"scattergl\"}], \"scattermapbox\": [{\"marker\": {\"colorbar\": {\"outlinewidth\": 0, \"ticks\": \"\"}}, \"type\": \"scattermapbox\"}], \"scatterpolar\": [{\"marker\": {\"colorbar\": {\"outlinewidth\": 0, \"ticks\": \"\"}}, \"type\": \"scatterpolar\"}], \"scatterpolargl\": [{\"marker\": {\"colorbar\": {\"outlinewidth\": 0, \"ticks\": \"\"}}, \"type\": \"scatterpolargl\"}], \"scatterternary\": [{\"marker\": {\"colorbar\": {\"outlinewidth\": 0, \"ticks\": \"\"}}, \"type\": \"scatterternary\"}], \"surface\": [{\"colorbar\": {\"outlinewidth\": 0, \"ticks\": \"\"}, \"colorscale\": [[0.0, \"#0d0887\"], [0.1111111111111111, \"#46039f\"], [0.2222222222222222, \"#7201a8\"], [0.3333333333333333, \"#9c179e\"], [0.4444444444444444, \"#bd3786\"], [0.5555555555555556, \"#d8576b\"], [0.6666666666666666, \"#ed7953\"], [0.7777777777777778, \"#fb9f3a\"], [0.8888888888888888, \"#fdca26\"], [1.0, \"#f0f921\"]], \"type\": \"surface\"}], \"table\": [{\"cells\": {\"fill\": {\"color\": \"#EBF0F8\"}, \"line\": {\"color\": \"white\"}}, \"header\": {\"fill\": {\"color\": \"#C8D4E3\"}, \"line\": {\"color\": \"white\"}}, \"type\": \"table\"}]}, \"layout\": {\"annotationdefaults\": {\"arrowcolor\": \"#2a3f5f\", \"arrowhead\": 0, \"arrowwidth\": 1}, \"coloraxis\": {\"colorbar\": {\"outlinewidth\": 0, \"ticks\": \"\"}}, \"colorscale\": {\"diverging\": [[0, \"#8e0152\"], [0.1, \"#c51b7d\"], [0.2, \"#de77ae\"], [0.3, \"#f1b6da\"], [0.4, \"#fde0ef\"], [0.5, \"#f7f7f7\"], [0.6, \"#e6f5d0\"], [0.7, \"#b8e186\"], [0.8, \"#7fbc41\"], [0.9, \"#4d9221\"], [1, \"#276419\"]], \"sequential\": [[0.0, \"#0d0887\"], [0.1111111111111111, \"#46039f\"], [0.2222222222222222, \"#7201a8\"], [0.3333333333333333, \"#9c179e\"], [0.4444444444444444, \"#bd3786\"], [0.5555555555555556, \"#d8576b\"], [0.6666666666666666, \"#ed7953\"], [0.7777777777777778, \"#fb9f3a\"], [0.8888888888888888, \"#fdca26\"], [1.0, \"#f0f921\"]], \"sequentialminus\": [[0.0, \"#0d0887\"], [0.1111111111111111, \"#46039f\"], [0.2222222222222222, \"#7201a8\"], [0.3333333333333333, \"#9c179e\"], [0.4444444444444444, \"#bd3786\"], [0.5555555555555556, \"#d8576b\"], [0.6666666666666666, \"#ed7953\"], [0.7777777777777778, \"#fb9f3a\"], [0.8888888888888888, \"#fdca26\"], [1.0, \"#f0f921\"]]}, \"colorway\": [\"#636efa\", \"#EF553B\", \"#00cc96\", \"#ab63fa\", \"#FFA15A\", \"#19d3f3\", \"#FF6692\", \"#B6E880\", \"#FF97FF\", \"#FECB52\"], \"font\": {\"color\": \"#2a3f5f\"}, \"geo\": {\"bgcolor\": \"white\", \"lakecolor\": \"white\", \"landcolor\": \"#E5ECF6\", \"showlakes\": true, \"showland\": true, \"subunitcolor\": \"white\"}, \"hoverlabel\": {\"align\": \"left\"}, \"hovermode\": \"closest\", \"mapbox\": {\"style\": \"light\"}, \"paper_bgcolor\": \"white\", \"plot_bgcolor\": \"#E5ECF6\", \"polar\": {\"angularaxis\": {\"gridcolor\": \"white\", \"linecolor\": \"white\", \"ticks\": \"\"}, \"bgcolor\": \"#E5ECF6\", \"radialaxis\": {\"gridcolor\": \"white\", \"linecolor\": \"white\", \"ticks\": \"\"}}, \"scene\": {\"xaxis\": {\"backgroundcolor\": \"#E5ECF6\", \"gridcolor\": \"white\", \"gridwidth\": 2, \"linecolor\": \"white\", \"showbackground\": true, \"ticks\": \"\", \"zerolinecolor\": \"white\"}, \"yaxis\": {\"backgroundcolor\": \"#E5ECF6\", \"gridcolor\": \"white\", \"gridwidth\": 2, \"linecolor\": \"white\", \"showbackground\": true, \"ticks\": \"\", \"zerolinecolor\": \"white\"}, \"zaxis\": {\"backgroundcolor\": \"#E5ECF6\", \"gridcolor\": \"white\", \"gridwidth\": 2, \"linecolor\": \"white\", \"showbackground\": true, \"ticks\": \"\", \"zerolinecolor\": \"white\"}}, \"shapedefaults\": {\"line\": {\"color\": \"#2a3f5f\"}}, \"ternary\": {\"aaxis\": {\"gridcolor\": \"white\", \"linecolor\": \"white\", \"ticks\": \"\"}, \"baxis\": {\"gridcolor\": \"white\", \"linecolor\": \"white\", \"ticks\": \"\"}, \"bgcolor\": \"#E5ECF6\", \"caxis\": {\"gridcolor\": \"white\", \"linecolor\": \"white\", \"ticks\": \"\"}}, \"title\": {\"x\": 0.05}, \"xaxis\": {\"automargin\": true, \"gridcolor\": \"white\", \"linecolor\": \"white\", \"ticks\": \"\", \"title\": {\"standoff\": 15}, \"zerolinecolor\": \"white\", \"zerolinewidth\": 2}, \"yaxis\": {\"automargin\": true, \"gridcolor\": \"white\", \"linecolor\": \"white\", \"ticks\": \"\", \"title\": {\"standoff\": 15}, \"zerolinecolor\": \"white\", \"zerolinewidth\": 2}}}, \"title\": {\"text\": \"A Figure Specified By Python Dictionary\"}},\n",
       "                        {\"responsive\": true}\n",
       "                    ).then(function(){\n",
       "                            \n",
       "var gd = document.getElementById('60a7b2f7-c5da-4866-9278-3607d97f02a3');\n",
       "var x = new MutationObserver(function (mutations, observer) {{\n",
       "        var display = window.getComputedStyle(gd).display;\n",
       "        if (!display || display === 'none') {{\n",
       "            console.log([gd, 'removed!']);\n",
       "            Plotly.purge(gd);\n",
       "            observer.disconnect();\n",
       "        }}\n",
       "}});\n",
       "\n",
       "// Listen for the removal of the full notebook cells\n",
       "var notebookContainer = gd.closest('#notebook-container');\n",
       "if (notebookContainer) {{\n",
       "    x.observe(notebookContainer, {childList: true});\n",
       "}}\n",
       "\n",
       "// Listen for the clearing of the current output cell\n",
       "var outputEl = gd.closest('.output');\n",
       "if (outputEl) {{\n",
       "    x.observe(outputEl, {childList: true});\n",
       "}}\n",
       "\n",
       "                        })\n",
       "                };\n",
       "                });\n",
       "            </script>\n",
       "        </div>"
      ]
     },
     "metadata": {},
     "output_type": "display_data"
    }
   ],
   "source": [
    "fig = dict({\n",
    "    \"data\": [{\"mode\": \"lines\",\n",
    "              \"x\": [1, 2, 3],\n",
    "              \"y\": [1, 3, 2],\n",
    "             },\n",
    "            {\"mode\": \"lines\",\n",
    "              \"x\": [1, 2, 3],\n",
    "              \"y\": [1, 5, 2],\n",
    "             }],\n",
    "    \"layout\": {\"title\": {\"text\": \"A Figure Specified By Python Dictionary\"}}\n",
    "})\n",
    "\n",
    "# To display the figure defined by this dict, use the low-level plotly.io.show function\n",
    "import plotly.io as pio\n",
    "\n",
    "pio.show(fig)"
   ]
  },
  {
   "cell_type": "code",
   "execution_count": 20,
   "metadata": {},
   "outputs": [],
   "source": [
    "xytraces=[('A', 'B'), ('B', None), (None, None), (None, None), (None, None), (None, None), (None, None), (None, None), (None, None), (None, None), (None, None), (None, None), (None, None), (None, None), (None, None)]"
   ]
  },
  {
   "cell_type": "code",
   "execution_count": 22,
   "metadata": {},
   "outputs": [
    {
     "name": "stdout",
     "output_type": "stream",
     "text": [
      "yes\n"
     ]
    }
   ],
   "source": [
    "for x,y in xytraces:\n",
    "    if x and y:\n",
    "        print(\"yes\")"
   ]
  },
  {
   "cell_type": "code",
   "execution_count": 7,
   "metadata": {},
   "outputs": [],
   "source": [
    "ysels=('Y1', None, None, None, None, None, None, None, None, None, None, None, None, None, None)"
   ]
  },
  {
   "cell_type": "code",
   "execution_count": 8,
   "metadata": {},
   "outputs": [],
   "source": [
    "yaxes=[]\n",
    "for yaxis in ysels:\n",
    "    try:\n",
    "        y=yaxis.split('Y')[1]\n",
    "        yaxes.append(y)\n",
    "    except:\n",
    "        yaxes.append(yaxis)"
   ]
  },
  {
   "cell_type": "code",
   "execution_count": 9,
   "metadata": {},
   "outputs": [
    {
     "data": {
      "text/plain": [
       "['1',\n",
       " None,\n",
       " None,\n",
       " None,\n",
       " None,\n",
       " None,\n",
       " None,\n",
       " None,\n",
       " None,\n",
       " None,\n",
       " None,\n",
       " None,\n",
       " None,\n",
       " None,\n",
       " None]"
      ]
     },
     "execution_count": 9,
     "metadata": {},
     "output_type": "execute_result"
    }
   ],
   "source": []
  },
  {
   "cell_type": "code",
   "execution_count": 10,
   "metadata": {},
   "outputs": [
    {
     "data": {
      "text/plain": [
       "'1900-01-01T15:53:19'"
      ]
     },
     "execution_count": 10,
     "metadata": {},
     "output_type": "execute_result"
    }
   ],
   "source": [
    "data[data.columns[0]][0]"
   ]
  },
  {
   "cell_type": "code",
   "execution_count": 2,
   "metadata": {},
   "outputs": [],
   "source": [
    "color={'r': 162, 'g': 103, 'b': 92, 'a': 1}"
   ]
  },
  {
   "cell_type": "code",
   "execution_count": 4,
   "metadata": {},
   "outputs": [
    {
     "data": {
      "text/plain": [
       "'rgba(162,103,92,1)'"
      ]
     },
     "execution_count": 4,
     "metadata": {},
     "output_type": "execute_result"
    }
   ],
   "source": [
    "r = color['r']\n",
    "g = color['g']\n",
    "b = color['b']\n",
    "a = color['a']\n",
    "'rgba({},{},{},{})'.format(r,g,b,a)"
   ]
  },
  {
   "cell_type": "code",
   "execution_count": 1,
   "metadata": {},
   "outputs": [],
   "source": [
    "a=[1,2,3]"
   ]
  },
  {
   "cell_type": "code",
   "execution_count": 5,
   "metadata": {},
   "outputs": [
    {
     "ename": "SyntaxError",
     "evalue": "invalid syntax (<ipython-input-5-6dc872bee7ca>, line 1)",
     "output_type": "error",
     "traceback": [
      "\u001b[0;36m  File \u001b[0;32m\"<ipython-input-5-6dc872bee7ca>\"\u001b[0;36m, line \u001b[0;32m1\u001b[0m\n\u001b[0;31m    a = [0 for : in a]\u001b[0m\n\u001b[0m               ^\u001b[0m\n\u001b[0;31mSyntaxError\u001b[0m\u001b[0;31m:\u001b[0m invalid syntax\n"
     ]
    }
   ],
   "source": [
    "a = [0 for : in a]"
   ]
  },
  {
   "cell_type": "code",
   "execution_count": 1,
   "metadata": {},
   "outputs": [],
   "source": [
    "a = [0]*3"
   ]
  },
  {
   "cell_type": "code",
   "execution_count": 2,
   "metadata": {},
   "outputs": [
    {
     "name": "stdout",
     "output_type": "stream",
     "text": [
      "<class 'list'>\n"
     ]
    }
   ],
   "source": [
    "print(type(a))"
   ]
  },
  {
   "cell_type": "code",
   "execution_count": 8,
   "metadata": {},
   "outputs": [
    {
     "name": "stdout",
     "output_type": "stream",
     "text": [
      "<class 'str'>\n"
     ]
    }
   ],
   "source": [
    "print(type(data['TIME'][0]))"
   ]
  },
  {
   "cell_type": "code",
   "execution_count": 10,
   "metadata": {},
   "outputs": [
    {
     "data": {
      "text/plain": [
       "True"
      ]
     },
     "execution_count": 10,
     "metadata": {},
     "output_type": "execute_result"
    }
   ],
   "source": [
    "import numpy as np\n",
    "isinstance(data['TIME'][0],str)"
   ]
  },
  {
   "cell_type": "code",
   "execution_count": null,
   "metadata": {},
   "outputs": [],
   "source": []
  }
 ],
 "metadata": {
  "kernelspec": {
   "display_name": "Python 3",
   "language": "python",
   "name": "python3"
  },
  "language_info": {
   "codemirror_mode": {
    "name": "ipython",
    "version": 3
   },
   "file_extension": ".py",
   "mimetype": "text/x-python",
   "name": "python",
   "nbconvert_exporter": "python",
   "pygments_lexer": "ipython3",
   "version": "3.6.9"
  }
 },
 "nbformat": 4,
 "nbformat_minor": 4
}
